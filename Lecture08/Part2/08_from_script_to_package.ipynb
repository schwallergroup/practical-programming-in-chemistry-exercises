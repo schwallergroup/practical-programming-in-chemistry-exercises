{
 "cells": [
  {
   "cell_type": "markdown",
   "metadata": {},
   "source": [
    "# Lecture 8: turning a Python script into a Python package"
   ]
  },
  {
   "cell_type": "markdown",
   "metadata": {},
   "source": [
    "## Introduction\n",
    "\n",
    "In this exercise, you'll learn how to convert a Python script into a Python package. Packaging your code is an essential skill in software development as it promotes code reusability, maintainability, and distribution.\n",
    "\n",
    "The goal of the exercise is to take the existing (and very simple) `amremover_script.py` file (aka a Python *module*) and restructure it into a Python package called `amremover`.\n",
    "\n",
    "Within the context of digital chemistry, and more specifically computational reaction prediction or database building, there are situations where you would like to have your SMILES without atom-mapping, which may be included by default via (for example) RDKit. Although you could remove them by hand for a few reactions, it is convenient to automate atom-mapping removal with a Python tool. \n",
    "\n",
    "The `amremover_script.py` module contains python functions for removing atom mapping numbers from SMILES strings and canonicalizing them. The functionality is basic, but useful, and is a good playground for illustrating the point of this week's exercise."
   ]
  },
  {
   "cell_type": "markdown",
   "metadata": {},
   "source": [
    "The file contains the following code structure:\n",
    "\n",
    "```python\n",
    "import re\n",
    "from rdkit import Chem\n",
    "\n",
    "def remove_atom_mapping(smiles: str) -> str:\n",
    "    ...\n",
    "\n",
    "def canonicalize_smiles(smiles: str) -> str:\n",
    "    ...\n",
    "\n",
    "def remove_atom_mapping_and_canonicalize_rxn_smiles(smiles: str) -> str:\n",
    "    ...\n",
    "\n",
    "rxn_smiles_with_atom_mapping = '[CH3:17][S:14](=[O:15])(=[O:16])[N:11]1[CH2:10][CH2:9][N:8](Cc2ccccc2)[CH2:13][CH2:12]1.C1CCCCC1>[OH-].[OH-].[Pd+2].CCO>[CH3:17][S:14](=[O:15])(=[O:16])[N:11]1[CH2:10][CH2:9][NH:8][CH2:13][CH2:12]1'\n",
    "\n",
    "print(f\"RXN SMILES with atom mapping: {rxn_smiles_with_atom_mapping}\")\n",
    "print(\"*** Remove atom mapping ***\")\n",
    "rxn_smiles_without_atom_mapping = remove_atom_mapping_and_canonicalize_rxn_smiles(rxn_smiles_with_atom_mapping)\n",
    "print(f\"RXN SMILES without atom mapping: {rxn_smiles_without_atom_mapping}\")\n",
    "```\n",
    "\n",
    "Though you are encouraged to open the file and read the code to understand it better.\n",
    "\n",
    "It is important to notice that the module, as currently written, contains both the useful functions **and** and example usage! This is not what we'd expect (or want) from a re-usable python module that exists in a package. Part of today's exercise will be improving this!"
   ]
  },
  {
   "cell_type": "markdown",
   "metadata": {},
   "source": [
    "We can run this script even from a Jupyter notebook, using the `!` character to execute code in the shell. "
   ]
  },
  {
   "cell_type": "code",
   "execution_count": null,
   "metadata": {},
   "outputs": [],
   "source": [
    "!python amremover_script.py"
   ]
  },
  {
   "cell_type": "markdown",
   "metadata": {},
   "source": [
    "Or import the function and execute it here:"
   ]
  },
  {
   "cell_type": "code",
   "execution_count": null,
   "metadata": {},
   "outputs": [],
   "source": [
    "from amremover_script import remove_atom_mapping_and_canonicalize_rxn_smiles\n",
    "\n",
    "rxn_smiles_with_atom_mapping = '[CH3:17][S:14](=[O:15])(=[O:16])[N:11]1[CH2:10][CH2:9][N:8](Cc2ccccc2)[CH2:13][CH2:12]1.C1CCCCC1>[OH-].[OH-].[Pd+2].CCO>[CH3:17][S:14](=[O:15])(=[O:16])[N:11]1[CH2:10][CH2:9][NH:8][CH2:13][CH2:12]1'\n",
    "\n",
    "print(f\"RXN SMILES with atom mapping: {rxn_smiles_with_atom_mapping}\")\n",
    "print(\"*** Remove atom mapping ***\")\n",
    "rxn_smiles_without_atom_mapping = remove_atom_mapping_and_canonicalize_rxn_smiles(rxn_smiles_with_atom_mapping)\n",
    "print(f\"RXN SMILES without atom mapping: {rxn_smiles_without_atom_mapping}\")"
   ]
  },
  {
   "cell_type": "markdown",
   "metadata": {},
   "source": [
    "#### To discuss\n",
    "\n",
    "With the structure of the module in mind, think back to why there is a double printing of outputs here when the module is loaded. \n",
    "\n",
    "Hint: what happens when you import a python module?\n",
    "\n",
    "See what happens when you run the above cell a second time. Discuss with the person next to you to see if you can figure out why!"
   ]
  },
  {
   "cell_type": "markdown",
   "metadata": {},
   "source": [
    "## Your task\n",
    "\n",
    "While this script works as intended, it lacks the structure and organization that a Python package provides. By converting it into a package, you'll learn how to organize your code into modules, set up package metadata, and create a distributable version of your software.\n",
    "\n",
    "To get started, you'll be provided with a minimal template for the `amremover` folder. Locate this in the current directory, and inspect the contents.\n",
    "\n",
    "**Your task is to**:\n",
    "\n",
    "1. Inspect the existing code in `amremover_script.py`.\n",
    "2. Determine the appropriate file structure and module organization for the package.\n",
    "3. Copy the **relevant** code from `amremover_script.py` into the appropriate file within the `amremover` package.\n",
    "4. Make sure to specify `rdkit` and `numpy` (with the correct version!) as a dependency. Refer back to the README to remind yourself what you did to install these packages in your environment.\n",
    "5. Ensure that the package is properly configured and can be installed using `pip install -e .`. This involves modify the `pyproject.toml` file, with help by referring to https://packaging.python.org/en/latest/guides/writing-pyproject-toml/.\n",
    "\n",
    "Throughout the exercise, you'll learn about essential package components like `pyproject.toml`, `__init__.py`, and module organization. By the end, you'll have a better understanding of how to structure and distribute your Python code as a reusable package.\n",
    "\n",
    "While you develop your package, regularly come back here and check whether you have managed to create the package successfully. The following cells should run without error, and print the desired output. This cell will also give you some hints as to how importing the module should work:"
   ]
  },
  {
   "cell_type": "code",
   "execution_count": null,
   "metadata": {},
   "outputs": [],
   "source": [
    "!pip install ./amremover"
   ]
  },
  {
   "cell_type": "code",
   "execution_count": null,
   "metadata": {},
   "outputs": [],
   "source": [
    "from amremover.utils import remove_atom_mapping_and_canonicalize_rxn_smiles\n",
    "\n",
    "rxn_smiles_with_atom_mapping = 'CCN(C(C)C)C(C)C.[O:16]=[C:15]([O:17][CH2:18][c:19]1[cH:20][cH:21][cH:22][cH:23][cH:24]1)[N:9]1[CH2:10][CH2:11][NH:12][CH2:13][CH2:14]1.[O:8]=[c:4]1[cH:3][c:2](Cl)[n:7][cH:6][nH:5]1>CCC(C)O>[O:16]=[C:15]([O:17][CH2:18][c:19]1[cH:20][cH:21][cH:22][cH:23][cH:24]1)[N:9]1[CH2:10][CH2:11][N:12]([c:2]2[cH:3][c:4](=[O:8])[nH:5][cH:6][n:7]2)[CH2:13][CH2:14]1'\n",
    "\n",
    "rxn_smiles_without_atom_mapping = remove_atom_mapping_and_canonicalize_rxn_smiles(rxn_smiles_with_atom_mapping)\n",
    "\n",
    "print(rxn_smiles_without_atom_mapping)\n",
    "\n",
    "assert rxn_smiles_without_atom_mapping == 'CCN(C(C)C)C(C)C.O=C(OCc1ccccc1)N1CCNCC1.O=c1cc(Cl)nc[nH]1>CCC(C)O>O=C(OCc1ccccc1)N1CCN(c2cc(=O)[nH]cn2)CC1'"
   ]
  },
  {
   "cell_type": "markdown",
   "metadata": {},
   "source": [
    "# Solutions\n",
    "\n",
    "There are two packages present that offer solutions to the main and advanced (below) exercises. Try as best you can to build your package without looking at the solutions, discussing with your peers and the TAs as you go. The solutions are there as a last resort!"
   ]
  },
  {
   "cell_type": "markdown",
   "metadata": {},
   "source": [
    "## Advanced exercise: creating a command-line interface\n",
    "\n",
    "Explore [Typer](https://typer.tiangolo.com) to add a command line interface to the `amremover_package`. \n",
    "\n",
    "The goal of this part would be to be able to run:"
   ]
  },
  {
   "cell_type": "code",
   "execution_count": null,
   "metadata": {},
   "outputs": [],
   "source": [
    "!amremover \"CCN(C(C)C)C(C)C.[O:16]=[C:15]([O:17][CH2:18][c:19]1[cH:20][cH:21][cH:22][cH:23][cH:24]1)[N:9]1[CH2:10][CH2:11][NH:12][CH2:13][CH2:14]1.[O:8]=[c:4]1[cH:3][c:2](Cl)[n:7][cH:6][nH:5]1>CCC(C)O>[O:16]=[C:15]([O:17][CH2:18][c:19]1[cH:20][cH:21][cH:22][cH:23][cH:24]1)[N:9]1[CH2:10][CH2:11][N:12]([c:2]2[cH:3][c:4](=[O:8])[nH:5][cH:6][n:7]2)[CH2:13][CH2:14]1\" "
   ]
  },
  {
   "cell_type": "markdown",
   "metadata": {},
   "source": [
    "and it should print the canonicalized reaction SMILES without atom mapping: \n",
    "```\n",
    "CCN(C(C)C)C(C)C.O=C(OCc1ccccc1)N1CCNCC1.O=c1cc(Cl)nc[nH]1>CCC(C)O>O=C(OCc1ccccc1)N1CCN(c2cc(=O)[nH]cn2)CC1\n",
    "```"
   ]
  },
  {
   "cell_type": "markdown",
   "metadata": {},
   "source": []
  }
 ],
 "metadata": {
  "kernelspec": {
   "display_name": "reactions",
   "language": "python",
   "name": "python3"
  },
  "language_info": {
   "codemirror_mode": {
    "name": "ipython",
    "version": 3
   },
   "file_extension": ".py",
   "mimetype": "text/x-python",
   "name": "python",
   "nbconvert_exporter": "python",
   "pygments_lexer": "ipython3",
   "version": "3.10.16"
  }
 },
 "nbformat": 4,
 "nbformat_minor": 4
}
