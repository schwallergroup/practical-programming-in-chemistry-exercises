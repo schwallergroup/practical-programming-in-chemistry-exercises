{
 "cells": [
  {
   "cell_type": "markdown",
   "id": "6ea1be65-e1e1-4259-bb87-c2d7a526341f",
   "metadata": {},
   "source": [
    "# DRFP - Reaction fingerprint\n",
    "\n",
    "DRFP is a reaction fingerprint developed by Probst et al.. \n",
    "\n",
    "Here we will just perform a quick test that it is correctly installed to show you the different ways of installing it.\n",
    "\n",
    "To display the path to the activated conda environment, we can run:"
   ]
  },
  {
   "cell_type": "code",
   "execution_count": null,
   "id": "72d03e42-596e-4bf7-ad5f-ae5e53c470a9",
   "metadata": {},
   "outputs": [],
   "source": [
    "import sys \n",
    "print(sys.prefix)"
   ]
  },
  {
   "cell_type": "markdown",
   "id": "bb117f3b-7ff4-495a-a9e6-9914efc54a04",
   "metadata": {},
   "source": [
    "This should end with `drfp_env`, if you followed the tutorial in the README.\n",
    "\n",
    "We can also check where we installed the `drfp` package."
   ]
  },
  {
   "cell_type": "code",
   "execution_count": null,
   "id": "a2082807-2463-4a35-a2f1-5f6bfab16970",
   "metadata": {},
   "outputs": [],
   "source": [
    "import drfp\n",
    "print(\"DRFP installed in:\", drfp.__file__)"
   ]
  },
  {
   "cell_type": "markdown",
   "id": "a4ed33f4-6dd3-4366-a830-b93b8bd6de73",
   "metadata": {},
   "source": [
    "Those two checks were mainly to show you how the python package installation is working.\n",
    "\n",
    "Now, we need to import the reaction encoder (`DrfpEncoder`)\n",
    "\n",
    "### Testing DRFP"
   ]
  },
  {
   "cell_type": "code",
   "execution_count": null,
   "id": "1c42f92a-3450-4f0e-822e-3fefd9798ead",
   "metadata": {},
   "outputs": [],
   "source": [
    "from drfp import DrfpEncoder"
   ]
  },
  {
   "cell_type": "markdown",
   "id": "67615523-ad08-4616-9041-5d48568a1194",
   "metadata": {},
   "source": [
    "Let's define a few reaction SMILES. If you want to see what they look like, you could use [CDK depict](https://www.simolecule.com/cdkdepict/depict.html)."
   ]
  },
  {
   "cell_type": "code",
   "execution_count": null,
   "id": "5514ae5b-70ea-4493-8343-462d6e29bdc4",
   "metadata": {},
   "outputs": [],
   "source": [
    "rxn_smiles = [\n",
    "    \"CO.O[C@@H]1CCNC1.[C-]#[N+]CC(=O)OC>>[C-]#[N+]CC(=O)N1CC[C@@H](O)C1\",\n",
    "    \"CCOC(=O)C(CC)c1cccnc1.Cl.O>>CCC(C(=O)O)c1cccnc1\",\n",
    "]"
   ]
  },
  {
   "cell_type": "code",
   "execution_count": null,
   "id": "dea655f5-8ec0-4681-bca8-4f4e26466a98",
   "metadata": {},
   "outputs": [],
   "source": [
    "fps = DrfpEncoder.encode(rxn_smiles)\n",
    "fps"
   ]
  },
  {
   "cell_type": "markdown",
   "id": "c4bb0788-da88-494c-a464-555d64556938",
   "metadata": {},
   "source": [
    "Now, go back to the README, and complete the installation from source in another environment."
   ]
  },
  {
   "cell_type": "code",
   "execution_count": null,
   "id": "85750285-550f-467a-a174-8cc776c7bcac",
   "metadata": {},
   "outputs": [],
   "source": []
  }
 ],
 "metadata": {
  "kernelspec": {
   "display_name": "drfp_pypi",
   "language": "python",
   "name": "python3"
  },
  "language_info": {
   "codemirror_mode": {
    "name": "ipython",
    "version": 3
   },
   "file_extension": ".py",
   "mimetype": "text/x-python",
   "name": "python",
   "nbconvert_exporter": "python",
   "pygments_lexer": "ipython3",
   "version": "3.10.16"
  }
 },
 "nbformat": 4,
 "nbformat_minor": 5
}
